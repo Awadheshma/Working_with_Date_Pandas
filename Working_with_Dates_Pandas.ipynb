{
 "cells": [
  {
   "cell_type": "code",
   "execution_count": 82,
   "id": "f810e071",
   "metadata": {},
   "outputs": [],
   "source": [
    "import seaborn as sns\n",
    "import pandas as pd\n",
    "import matplotlib.pyplot as plt"
   ]
  },
  {
   "cell_type": "code",
   "execution_count": 2,
   "id": "a0c44427",
   "metadata": {},
   "outputs": [
    {
     "data": {
      "text/html": [
       "<div>\n",
       "<style scoped>\n",
       "    .dataframe tbody tr th:only-of-type {\n",
       "        vertical-align: middle;\n",
       "    }\n",
       "\n",
       "    .dataframe tbody tr th {\n",
       "        vertical-align: top;\n",
       "    }\n",
       "\n",
       "    .dataframe thead th {\n",
       "        text-align: right;\n",
       "    }\n",
       "</style>\n",
       "<table border=\"1\" class=\"dataframe\">\n",
       "  <thead>\n",
       "    <tr style=\"text-align: right;\">\n",
       "      <th></th>\n",
       "      <th>emp_id</th>\n",
       "      <th>first_name</th>\n",
       "      <th>last_name</th>\n",
       "      <th>age</th>\n",
       "      <th>gender</th>\n",
       "      <th>department</th>\n",
       "      <th>salary</th>\n",
       "      <th>Joining_Date</th>\n",
       "      <th>City</th>\n",
       "      <th>Email</th>\n",
       "    </tr>\n",
       "  </thead>\n",
       "  <tbody>\n",
       "    <tr>\n",
       "      <th>0</th>\n",
       "      <td>1</td>\n",
       "      <td>Awadhesh</td>\n",
       "      <td>Maurya</td>\n",
       "      <td>23</td>\n",
       "      <td>m</td>\n",
       "      <td>Analytics</td>\n",
       "      <td>23000</td>\n",
       "      <td>01-01-2022</td>\n",
       "      <td>Delhi[DLI]</td>\n",
       "      <td>abc@gmail.com</td>\n",
       "    </tr>\n",
       "    <tr>\n",
       "      <th>1</th>\n",
       "      <td>2</td>\n",
       "      <td>Ravi</td>\n",
       "      <td>Gupta</td>\n",
       "      <td>34</td>\n",
       "      <td>m</td>\n",
       "      <td>Analytics</td>\n",
       "      <td>45000</td>\n",
       "      <td>02-01-2022</td>\n",
       "      <td>Dehradun[UK]</td>\n",
       "      <td>def@gmail.com</td>\n",
       "    </tr>\n",
       "    <tr>\n",
       "      <th>2</th>\n",
       "      <td>3</td>\n",
       "      <td>Shyam</td>\n",
       "      <td>Vishwas</td>\n",
       "      <td>43</td>\n",
       "      <td>m</td>\n",
       "      <td>Data Science</td>\n",
       "      <td>23000</td>\n",
       "      <td>03-01-2022</td>\n",
       "      <td>Lucknow[UP]</td>\n",
       "      <td>dsdw22@gmail.com</td>\n",
       "    </tr>\n",
       "    <tr>\n",
       "      <th>3</th>\n",
       "      <td>4</td>\n",
       "      <td>Abhishek</td>\n",
       "      <td>Kumar</td>\n",
       "      <td>56</td>\n",
       "      <td>m</td>\n",
       "      <td>Sales&amp; Marketing</td>\n",
       "      <td>56000</td>\n",
       "      <td>04-01-2023</td>\n",
       "      <td>Delhi[DLI]</td>\n",
       "      <td>jkl@gmail.com</td>\n",
       "    </tr>\n",
       "    <tr>\n",
       "      <th>4</th>\n",
       "      <td>5</td>\n",
       "      <td>Arav</td>\n",
       "      <td>Kumar</td>\n",
       "      <td>34</td>\n",
       "      <td>m</td>\n",
       "      <td>Data Science</td>\n",
       "      <td>23500</td>\n",
       "      <td>05-01-2023</td>\n",
       "      <td>Dehradun[UK]</td>\n",
       "      <td>mno@gmail.com</td>\n",
       "    </tr>\n",
       "  </tbody>\n",
       "</table>\n",
       "</div>"
      ],
      "text/plain": [
       "   emp_id  first_name last_name  age gender        department  salary  \\\n",
       "0       1    Awadhesh    Maurya   23      m         Analytics   23000   \n",
       "1       2        Ravi     Gupta   34      m         Analytics   45000   \n",
       "2       3    Shyam      Vishwas   43      m      Data Science   23000   \n",
       "3       4    Abhishek     Kumar   56      m  Sales& Marketing   56000   \n",
       "4       5        Arav     Kumar   34      m      Data Science   23500   \n",
       "\n",
       "  Joining_Date          City             Email  \n",
       "0   01-01-2022    Delhi[DLI]     abc@gmail.com  \n",
       "1   02-01-2022  Dehradun[UK]     def@gmail.com  \n",
       "2   03-01-2022   Lucknow[UP]  dsdw22@gmail.com  \n",
       "3   04-01-2023    Delhi[DLI]     jkl@gmail.com  \n",
       "4   05-01-2023  Dehradun[UK]     mno@gmail.com  "
      ]
     },
     "execution_count": 2,
     "metadata": {},
     "output_type": "execute_result"
    }
   ],
   "source": [
    "df= pd.read_csv('emp_data_csv.csv',header=1)\n",
    "df.head()"
   ]
  },
  {
   "cell_type": "markdown",
   "id": "48a3c782",
   "metadata": {},
   "source": [
    "### Check datatype"
   ]
  },
  {
   "cell_type": "code",
   "execution_count": 3,
   "id": "c79ac036",
   "metadata": {},
   "outputs": [
    {
     "name": "stdout",
     "output_type": "stream",
     "text": [
      "<class 'pandas.core.frame.DataFrame'>\n",
      "RangeIndex: 12 entries, 0 to 11\n",
      "Data columns (total 10 columns):\n",
      " #   Column        Non-Null Count  Dtype \n",
      "---  ------        --------------  ----- \n",
      " 0   emp_id        12 non-null     int64 \n",
      " 1   first_name    12 non-null     object\n",
      " 2   last_name     12 non-null     object\n",
      " 3   age           12 non-null     int64 \n",
      " 4   gender        12 non-null     object\n",
      " 5   department    12 non-null     object\n",
      " 6   salary        12 non-null     int64 \n",
      " 7   Joining_Date  12 non-null     object\n",
      " 8   City          12 non-null     object\n",
      " 9   Email         12 non-null     object\n",
      "dtypes: int64(3), object(7)\n",
      "memory usage: 1.1+ KB\n"
     ]
    }
   ],
   "source": [
    "df.info()"
   ]
  },
  {
   "cell_type": "markdown",
   "id": "bee2f5c8",
   "metadata": {},
   "source": [
    "### convert to datetime"
   ]
  },
  {
   "cell_type": "code",
   "execution_count": 4,
   "id": "74dbc854",
   "metadata": {},
   "outputs": [],
   "source": [
    "# CONVERT DATATYPE TO 'datetime'"
   ]
  },
  {
   "cell_type": "code",
   "execution_count": 5,
   "id": "1303b818",
   "metadata": {},
   "outputs": [],
   "source": [
    "df['Joining_Date']= pd.to_datetime(df['Joining_Date'])"
   ]
  },
  {
   "cell_type": "markdown",
   "id": "c3a3c83d",
   "metadata": {},
   "source": [
    "### rename column"
   ]
  },
  {
   "cell_type": "code",
   "execution_count": 6,
   "id": "d97f22ea",
   "metadata": {},
   "outputs": [],
   "source": [
    "df.rename(columns={'Joining_Date':'Date'}, inplace=True)"
   ]
  },
  {
   "cell_type": "markdown",
   "id": "463bd9fb",
   "metadata": {},
   "source": [
    "### drop unwanted colunmn"
   ]
  },
  {
   "cell_type": "raw",
   "id": "53978ac5",
   "metadata": {},
   "source": [
    "df.drop(columns=['dayname', 'monthname'], inplace=True)"
   ]
  },
  {
   "cell_type": "markdown",
   "id": "37acbb8f",
   "metadata": {},
   "source": [
    "### Extract year, quarterm month, day  from date col"
   ]
  },
  {
   "cell_type": "raw",
   "id": "21262fa5",
   "metadata": {},
   "source": [
    "print(df['Date'].dt.year)\n",
    "print(df['Date'].dt.quarter)\n",
    "print(df['Date'].dt.month)\n",
    "print(df['Date'].dt.month_name())\n",
    "print(df['Date'].dt.day)\n",
    "print(df['Date'].dt.day_name())\n",
    "print(df['Date'].dt.isocalendar().week)"
   ]
  },
  {
   "cell_type": "markdown",
   "id": "0959110b",
   "metadata": {},
   "source": [
    "### Add YEAR-MONTH to mai table"
   ]
  },
  {
   "cell_type": "code",
   "execution_count": 59,
   "id": "7ed0f870",
   "metadata": {},
   "outputs": [],
   "source": [
    "#EXTRACT DATE COLUMN into main table\n",
    "df['Year']= df['Date'].dt.year\n",
    "#df['quarter']= df['Date'].dt.quarter\n",
    "\n",
    "###df['month_no.']= df['Date'].dt.month\n",
    "df['month_name']= df['Date'].dt.month_name()\n",
    "#df['WeekOfYear']= df['Date'].dt.isocalendar().week\n",
    "\n",
    "#df['day_no.']= df['Date'].dt.day\n",
    "#df['day_name']= df['Date'].dt.day_name()"
   ]
  },
  {
   "cell_type": "code",
   "execution_count": 60,
   "id": "c8538c40",
   "metadata": {},
   "outputs": [
    {
     "data": {
      "text/html": [
       "<div>\n",
       "<style scoped>\n",
       "    .dataframe tbody tr th:only-of-type {\n",
       "        vertical-align: middle;\n",
       "    }\n",
       "\n",
       "    .dataframe tbody tr th {\n",
       "        vertical-align: top;\n",
       "    }\n",
       "\n",
       "    .dataframe thead th {\n",
       "        text-align: right;\n",
       "    }\n",
       "</style>\n",
       "<table border=\"1\" class=\"dataframe\">\n",
       "  <thead>\n",
       "    <tr style=\"text-align: right;\">\n",
       "      <th></th>\n",
       "      <th>emp_id</th>\n",
       "      <th>first_name</th>\n",
       "      <th>last_name</th>\n",
       "      <th>age</th>\n",
       "      <th>gender</th>\n",
       "      <th>department</th>\n",
       "      <th>salary</th>\n",
       "      <th>Date</th>\n",
       "      <th>City</th>\n",
       "      <th>Email</th>\n",
       "      <th>Year</th>\n",
       "      <th>month_name</th>\n",
       "    </tr>\n",
       "  </thead>\n",
       "  <tbody>\n",
       "    <tr>\n",
       "      <th>0</th>\n",
       "      <td>1</td>\n",
       "      <td>Awadhesh</td>\n",
       "      <td>Maurya</td>\n",
       "      <td>23</td>\n",
       "      <td>m</td>\n",
       "      <td>Analytics</td>\n",
       "      <td>23000</td>\n",
       "      <td>2022-01-01</td>\n",
       "      <td>Delhi[DLI]</td>\n",
       "      <td>abc@gmail.com</td>\n",
       "      <td>2022</td>\n",
       "      <td>January</td>\n",
       "    </tr>\n",
       "    <tr>\n",
       "      <th>1</th>\n",
       "      <td>2</td>\n",
       "      <td>Ravi</td>\n",
       "      <td>Gupta</td>\n",
       "      <td>34</td>\n",
       "      <td>m</td>\n",
       "      <td>Analytics</td>\n",
       "      <td>45000</td>\n",
       "      <td>2022-02-01</td>\n",
       "      <td>Dehradun[UK]</td>\n",
       "      <td>def@gmail.com</td>\n",
       "      <td>2022</td>\n",
       "      <td>February</td>\n",
       "    </tr>\n",
       "    <tr>\n",
       "      <th>2</th>\n",
       "      <td>3</td>\n",
       "      <td>Shyam</td>\n",
       "      <td>Vishwas</td>\n",
       "      <td>43</td>\n",
       "      <td>m</td>\n",
       "      <td>Data Science</td>\n",
       "      <td>23000</td>\n",
       "      <td>2022-03-01</td>\n",
       "      <td>Lucknow[UP]</td>\n",
       "      <td>dsdw22@gmail.com</td>\n",
       "      <td>2022</td>\n",
       "      <td>March</td>\n",
       "    </tr>\n",
       "    <tr>\n",
       "      <th>3</th>\n",
       "      <td>4</td>\n",
       "      <td>Abhishek</td>\n",
       "      <td>Kumar</td>\n",
       "      <td>56</td>\n",
       "      <td>m</td>\n",
       "      <td>Sales&amp; Marketing</td>\n",
       "      <td>56000</td>\n",
       "      <td>2023-04-01</td>\n",
       "      <td>Delhi[DLI]</td>\n",
       "      <td>jkl@gmail.com</td>\n",
       "      <td>2023</td>\n",
       "      <td>April</td>\n",
       "    </tr>\n",
       "    <tr>\n",
       "      <th>4</th>\n",
       "      <td>5</td>\n",
       "      <td>Arav</td>\n",
       "      <td>Kumar</td>\n",
       "      <td>34</td>\n",
       "      <td>m</td>\n",
       "      <td>Data Science</td>\n",
       "      <td>23500</td>\n",
       "      <td>2023-05-01</td>\n",
       "      <td>Dehradun[UK]</td>\n",
       "      <td>mno@gmail.com</td>\n",
       "      <td>2023</td>\n",
       "      <td>May</td>\n",
       "    </tr>\n",
       "  </tbody>\n",
       "</table>\n",
       "</div>"
      ],
      "text/plain": [
       "   emp_id  first_name last_name  age gender        department  salary  \\\n",
       "0       1    Awadhesh    Maurya   23      m         Analytics   23000   \n",
       "1       2        Ravi     Gupta   34      m         Analytics   45000   \n",
       "2       3    Shyam      Vishwas   43      m      Data Science   23000   \n",
       "3       4    Abhishek     Kumar   56      m  Sales& Marketing   56000   \n",
       "4       5        Arav     Kumar   34      m      Data Science   23500   \n",
       "\n",
       "        Date          City             Email  Year month_name  \n",
       "0 2022-01-01    Delhi[DLI]     abc@gmail.com  2022    January  \n",
       "1 2022-02-01  Dehradun[UK]     def@gmail.com  2022   February  \n",
       "2 2022-03-01   Lucknow[UP]  dsdw22@gmail.com  2022      March  \n",
       "3 2023-04-01    Delhi[DLI]     jkl@gmail.com  2023      April  \n",
       "4 2023-05-01  Dehradun[UK]     mno@gmail.com  2023        May  "
      ]
     },
     "execution_count": 60,
     "metadata": {},
     "output_type": "execute_result"
    }
   ],
   "source": [
    "df.head()"
   ]
  },
  {
   "cell_type": "markdown",
   "id": "86f1234c",
   "metadata": {},
   "source": [
    "### Find Earliest & Latest Date"
   ]
  },
  {
   "cell_type": "code",
   "execution_count": 61,
   "id": "e72ec673",
   "metadata": {},
   "outputs": [
    {
     "data": {
      "text/plain": [
       "Timestamp('2022-01-01 00:00:00')"
      ]
     },
     "execution_count": 61,
     "metadata": {},
     "output_type": "execute_result"
    }
   ],
   "source": [
    "df['Date'].min()"
   ]
  },
  {
   "cell_type": "code",
   "execution_count": 62,
   "id": "c8f46741",
   "metadata": {},
   "outputs": [
    {
     "data": {
      "text/plain": [
       "Timestamp('2024-09-08 00:00:00')"
      ]
     },
     "execution_count": 62,
     "metadata": {},
     "output_type": "execute_result"
    }
   ],
   "source": [
    "df['Date'].max()"
   ]
  },
  {
   "cell_type": "markdown",
   "id": "2553b953",
   "metadata": {},
   "source": [
    "###  Difference b/w First & Last Date"
   ]
  },
  {
   "cell_type": "code",
   "execution_count": 63,
   "id": "1912dbdb",
   "metadata": {},
   "outputs": [
    {
     "data": {
      "text/plain": [
       "Timedelta('981 days 00:00:00')"
      ]
     },
     "execution_count": 63,
     "metadata": {},
     "output_type": "execute_result"
    }
   ],
   "source": [
    "df['Date'].max() - df['Date'].min()  #Total No. of days between Earliest & Latest"
   ]
  },
  {
   "cell_type": "markdown",
   "id": "e38ccca0",
   "metadata": {},
   "source": [
    "### Filter all data from : 2022-2023"
   ]
  },
  {
   "cell_type": "code",
   "execution_count": 64,
   "id": "165d499c",
   "metadata": {},
   "outputs": [
    {
     "data": {
      "text/html": [
       "<div>\n",
       "<style scoped>\n",
       "    .dataframe tbody tr th:only-of-type {\n",
       "        vertical-align: middle;\n",
       "    }\n",
       "\n",
       "    .dataframe tbody tr th {\n",
       "        vertical-align: top;\n",
       "    }\n",
       "\n",
       "    .dataframe thead th {\n",
       "        text-align: right;\n",
       "    }\n",
       "</style>\n",
       "<table border=\"1\" class=\"dataframe\">\n",
       "  <thead>\n",
       "    <tr style=\"text-align: right;\">\n",
       "      <th></th>\n",
       "      <th>emp_id</th>\n",
       "      <th>first_name</th>\n",
       "      <th>last_name</th>\n",
       "      <th>age</th>\n",
       "      <th>gender</th>\n",
       "      <th>department</th>\n",
       "      <th>salary</th>\n",
       "      <th>Date</th>\n",
       "      <th>City</th>\n",
       "      <th>Email</th>\n",
       "      <th>Year</th>\n",
       "      <th>month_name</th>\n",
       "    </tr>\n",
       "  </thead>\n",
       "  <tbody>\n",
       "    <tr>\n",
       "      <th>0</th>\n",
       "      <td>1</td>\n",
       "      <td>Awadhesh</td>\n",
       "      <td>Maurya</td>\n",
       "      <td>23</td>\n",
       "      <td>m</td>\n",
       "      <td>Analytics</td>\n",
       "      <td>23000</td>\n",
       "      <td>2022-01-01</td>\n",
       "      <td>Delhi[DLI]</td>\n",
       "      <td>abc@gmail.com</td>\n",
       "      <td>2022</td>\n",
       "      <td>January</td>\n",
       "    </tr>\n",
       "    <tr>\n",
       "      <th>1</th>\n",
       "      <td>2</td>\n",
       "      <td>Ravi</td>\n",
       "      <td>Gupta</td>\n",
       "      <td>34</td>\n",
       "      <td>m</td>\n",
       "      <td>Analytics</td>\n",
       "      <td>45000</td>\n",
       "      <td>2022-02-01</td>\n",
       "      <td>Dehradun[UK]</td>\n",
       "      <td>def@gmail.com</td>\n",
       "      <td>2022</td>\n",
       "      <td>February</td>\n",
       "    </tr>\n",
       "    <tr>\n",
       "      <th>2</th>\n",
       "      <td>3</td>\n",
       "      <td>Shyam</td>\n",
       "      <td>Vishwas</td>\n",
       "      <td>43</td>\n",
       "      <td>m</td>\n",
       "      <td>Data Science</td>\n",
       "      <td>23000</td>\n",
       "      <td>2022-03-01</td>\n",
       "      <td>Lucknow[UP]</td>\n",
       "      <td>dsdw22@gmail.com</td>\n",
       "      <td>2022</td>\n",
       "      <td>March</td>\n",
       "    </tr>\n",
       "    <tr>\n",
       "      <th>5</th>\n",
       "      <td>6</td>\n",
       "      <td>Shivani</td>\n",
       "      <td>Maurya</td>\n",
       "      <td>26</td>\n",
       "      <td>f</td>\n",
       "      <td>HR</td>\n",
       "      <td>90000</td>\n",
       "      <td>2022-06-01</td>\n",
       "      <td>Bangaluru[KRNTK]</td>\n",
       "      <td>pqr@gmail.com</td>\n",
       "      <td>2022</td>\n",
       "      <td>June</td>\n",
       "    </tr>\n",
       "    <tr>\n",
       "      <th>6</th>\n",
       "      <td>7</td>\n",
       "      <td>Aman</td>\n",
       "      <td>Jaiswal</td>\n",
       "      <td>54</td>\n",
       "      <td>m</td>\n",
       "      <td>HR</td>\n",
       "      <td>56800</td>\n",
       "      <td>2022-07-01</td>\n",
       "      <td>Lucknow[UP]</td>\n",
       "      <td>rsgw45@gmail.com</td>\n",
       "      <td>2022</td>\n",
       "      <td>July</td>\n",
       "    </tr>\n",
       "    <tr>\n",
       "      <th>9</th>\n",
       "      <td>10</td>\n",
       "      <td>Ankur</td>\n",
       "      <td>Srivastava</td>\n",
       "      <td>41</td>\n",
       "      <td>m</td>\n",
       "      <td>Sales&amp; Marketing</td>\n",
       "      <td>24000</td>\n",
       "      <td>2022-10-01</td>\n",
       "      <td>Dehradun[UK]</td>\n",
       "      <td>j12323121@gmail.com</td>\n",
       "      <td>2022</td>\n",
       "      <td>October</td>\n",
       "    </tr>\n",
       "    <tr>\n",
       "      <th>10</th>\n",
       "      <td>1</td>\n",
       "      <td>Awadhesh</td>\n",
       "      <td>Maurya</td>\n",
       "      <td>23</td>\n",
       "      <td>m</td>\n",
       "      <td>Analytics</td>\n",
       "      <td>23000</td>\n",
       "      <td>2023-01-01</td>\n",
       "      <td>Delhi[DLI]</td>\n",
       "      <td>abc@gmail.com</td>\n",
       "      <td>2023</td>\n",
       "      <td>January</td>\n",
       "    </tr>\n",
       "  </tbody>\n",
       "</table>\n",
       "</div>"
      ],
      "text/plain": [
       "    emp_id  first_name   last_name  age gender        department  salary  \\\n",
       "0        1    Awadhesh      Maurya   23      m         Analytics   23000   \n",
       "1        2        Ravi       Gupta   34      m         Analytics   45000   \n",
       "2        3    Shyam        Vishwas   43      m      Data Science   23000   \n",
       "5        6     Shivani      Maurya   26      f                HR   90000   \n",
       "6        7        Aman     Jaiswal   54      m                HR   56800   \n",
       "9       10       Ankur  Srivastava   41      m  Sales& Marketing   24000   \n",
       "10       1    Awadhesh      Maurya   23      m         Analytics   23000   \n",
       "\n",
       "         Date              City                Email  Year month_name  \n",
       "0  2022-01-01        Delhi[DLI]        abc@gmail.com  2022    January  \n",
       "1  2022-02-01      Dehradun[UK]        def@gmail.com  2022   February  \n",
       "2  2022-03-01       Lucknow[UP]     dsdw22@gmail.com  2022      March  \n",
       "5  2022-06-01  Bangaluru[KRNTK]        pqr@gmail.com  2022       June  \n",
       "6  2022-07-01       Lucknow[UP]     rsgw45@gmail.com  2022       July  \n",
       "9  2022-10-01      Dehradun[UK]  j12323121@gmail.com  2022    October  \n",
       "10 2023-01-01        Delhi[DLI]        abc@gmail.com  2023    January  "
      ]
     },
     "execution_count": 64,
     "metadata": {},
     "output_type": "execute_result"
    }
   ],
   "source": [
    "data22_23= df[(df['Date']>='2022') & (df['Date']<='2023')]\n",
    "data22_23"
   ]
  },
  {
   "cell_type": "markdown",
   "id": "319f8c81",
   "metadata": {},
   "source": [
    "### Filter all data from:  [ Aug 2022  till  Aug 2024  ]"
   ]
  },
  {
   "cell_type": "code",
   "execution_count": 65,
   "id": "c21be62b",
   "metadata": {},
   "outputs": [
    {
     "data": {
      "text/html": [
       "<div>\n",
       "<style scoped>\n",
       "    .dataframe tbody tr th:only-of-type {\n",
       "        vertical-align: middle;\n",
       "    }\n",
       "\n",
       "    .dataframe tbody tr th {\n",
       "        vertical-align: top;\n",
       "    }\n",
       "\n",
       "    .dataframe thead th {\n",
       "        text-align: right;\n",
       "    }\n",
       "</style>\n",
       "<table border=\"1\" class=\"dataframe\">\n",
       "  <thead>\n",
       "    <tr style=\"text-align: right;\">\n",
       "      <th></th>\n",
       "      <th>emp_id</th>\n",
       "      <th>first_name</th>\n",
       "      <th>last_name</th>\n",
       "      <th>age</th>\n",
       "      <th>gender</th>\n",
       "      <th>department</th>\n",
       "      <th>salary</th>\n",
       "      <th>Date</th>\n",
       "      <th>City</th>\n",
       "      <th>Email</th>\n",
       "      <th>Year</th>\n",
       "      <th>month_name</th>\n",
       "    </tr>\n",
       "  </thead>\n",
       "  <tbody>\n",
       "    <tr>\n",
       "      <th>3</th>\n",
       "      <td>4</td>\n",
       "      <td>Abhishek</td>\n",
       "      <td>Kumar</td>\n",
       "      <td>56</td>\n",
       "      <td>m</td>\n",
       "      <td>Sales&amp; Marketing</td>\n",
       "      <td>56000</td>\n",
       "      <td>2023-04-01</td>\n",
       "      <td>Delhi[DLI]</td>\n",
       "      <td>jkl@gmail.com</td>\n",
       "      <td>2023</td>\n",
       "      <td>April</td>\n",
       "    </tr>\n",
       "    <tr>\n",
       "      <th>4</th>\n",
       "      <td>5</td>\n",
       "      <td>Arav</td>\n",
       "      <td>Kumar</td>\n",
       "      <td>34</td>\n",
       "      <td>m</td>\n",
       "      <td>Data Science</td>\n",
       "      <td>23500</td>\n",
       "      <td>2023-05-01</td>\n",
       "      <td>Dehradun[UK]</td>\n",
       "      <td>mno@gmail.com</td>\n",
       "      <td>2023</td>\n",
       "      <td>May</td>\n",
       "    </tr>\n",
       "    <tr>\n",
       "      <th>7</th>\n",
       "      <td>8</td>\n",
       "      <td>Renuka</td>\n",
       "      <td>Maurya</td>\n",
       "      <td>37</td>\n",
       "      <td>f</td>\n",
       "      <td>Data Engineering</td>\n",
       "      <td>34500</td>\n",
       "      <td>2024-08-07</td>\n",
       "      <td>Lucknow[UP]</td>\n",
       "      <td>jg5766@gmail.com</td>\n",
       "      <td>2024</td>\n",
       "      <td>August</td>\n",
       "    </tr>\n",
       "    <tr>\n",
       "      <th>8</th>\n",
       "      <td>9</td>\n",
       "      <td>Shefali</td>\n",
       "      <td>Verma</td>\n",
       "      <td>23</td>\n",
       "      <td>f</td>\n",
       "      <td>IT</td>\n",
       "      <td>67000</td>\n",
       "      <td>2024-09-08</td>\n",
       "      <td>Bangaluru[KRNTK]</td>\n",
       "      <td>rtd@gmail.com</td>\n",
       "      <td>2024</td>\n",
       "      <td>September</td>\n",
       "    </tr>\n",
       "    <tr>\n",
       "      <th>9</th>\n",
       "      <td>10</td>\n",
       "      <td>Ankur</td>\n",
       "      <td>Srivastava</td>\n",
       "      <td>41</td>\n",
       "      <td>m</td>\n",
       "      <td>Sales&amp; Marketing</td>\n",
       "      <td>24000</td>\n",
       "      <td>2022-10-01</td>\n",
       "      <td>Dehradun[UK]</td>\n",
       "      <td>j12323121@gmail.com</td>\n",
       "      <td>2022</td>\n",
       "      <td>October</td>\n",
       "    </tr>\n",
       "    <tr>\n",
       "      <th>10</th>\n",
       "      <td>1</td>\n",
       "      <td>Awadhesh</td>\n",
       "      <td>Maurya</td>\n",
       "      <td>23</td>\n",
       "      <td>m</td>\n",
       "      <td>Analytics</td>\n",
       "      <td>23000</td>\n",
       "      <td>2023-01-01</td>\n",
       "      <td>Delhi[DLI]</td>\n",
       "      <td>abc@gmail.com</td>\n",
       "      <td>2023</td>\n",
       "      <td>January</td>\n",
       "    </tr>\n",
       "    <tr>\n",
       "      <th>11</th>\n",
       "      <td>11</td>\n",
       "      <td>Shyama</td>\n",
       "      <td>Choursia</td>\n",
       "      <td>26</td>\n",
       "      <td>f</td>\n",
       "      <td>IT</td>\n",
       "      <td>67000</td>\n",
       "      <td>2023-02-01</td>\n",
       "      <td>Bangaluru[KRNTK]</td>\n",
       "      <td>shy@gmail.com</td>\n",
       "      <td>2023</td>\n",
       "      <td>February</td>\n",
       "    </tr>\n",
       "  </tbody>\n",
       "</table>\n",
       "</div>"
      ],
      "text/plain": [
       "    emp_id  first_name   last_name  age gender        department  salary  \\\n",
       "3        4    Abhishek       Kumar   56      m  Sales& Marketing   56000   \n",
       "4        5        Arav       Kumar   34      m      Data Science   23500   \n",
       "7        8      Renuka      Maurya   37      f  Data Engineering   34500   \n",
       "8        9     Shefali       Verma   23      f                IT   67000   \n",
       "9       10       Ankur  Srivastava   41      m  Sales& Marketing   24000   \n",
       "10       1    Awadhesh      Maurya   23      m         Analytics   23000   \n",
       "11      11      Shyama    Choursia   26      f                IT   67000   \n",
       "\n",
       "         Date              City                Email  Year month_name  \n",
       "3  2023-04-01        Delhi[DLI]        jkl@gmail.com  2023      April  \n",
       "4  2023-05-01      Dehradun[UK]        mno@gmail.com  2023        May  \n",
       "7  2024-08-07       Lucknow[UP]     jg5766@gmail.com  2024     August  \n",
       "8  2024-09-08  Bangaluru[KRNTK]        rtd@gmail.com  2024  September  \n",
       "9  2022-10-01      Dehradun[UK]  j12323121@gmail.com  2022    October  \n",
       "10 2023-01-01        Delhi[DLI]        abc@gmail.com  2023    January  \n",
       "11 2023-02-01  Bangaluru[KRNTK]        shy@gmail.com  2023   February  "
      ]
     },
     "execution_count": 65,
     "metadata": {},
     "output_type": "execute_result"
    }
   ],
   "source": [
    "data22_23= df[(df['Date']>='2022-08') & (df['Date']<='2024-11')]\n",
    "data22_23"
   ]
  },
  {
   "cell_type": "markdown",
   "id": "03202120",
   "metadata": {},
   "source": [
    "### Group salary by 'year'"
   ]
  },
  {
   "cell_type": "code",
   "execution_count": 91,
   "id": "edf667c4",
   "metadata": {},
   "outputs": [],
   "source": [
    "salary_by_year = df.groupby( df['Year']) [['salary']].sum()"
   ]
  },
  {
   "cell_type": "code",
   "execution_count": 92,
   "id": "dd9dd60b",
   "metadata": {},
   "outputs": [
    {
     "data": {
      "text/html": [
       "<div>\n",
       "<style scoped>\n",
       "    .dataframe tbody tr th:only-of-type {\n",
       "        vertical-align: middle;\n",
       "    }\n",
       "\n",
       "    .dataframe tbody tr th {\n",
       "        vertical-align: top;\n",
       "    }\n",
       "\n",
       "    .dataframe thead th {\n",
       "        text-align: right;\n",
       "    }\n",
       "</style>\n",
       "<table border=\"1\" class=\"dataframe\">\n",
       "  <thead>\n",
       "    <tr style=\"text-align: right;\">\n",
       "      <th></th>\n",
       "      <th>salary</th>\n",
       "    </tr>\n",
       "    <tr>\n",
       "      <th>Year</th>\n",
       "      <th></th>\n",
       "    </tr>\n",
       "  </thead>\n",
       "  <tbody>\n",
       "    <tr>\n",
       "      <th>2022</th>\n",
       "      <td>261800</td>\n",
       "    </tr>\n",
       "    <tr>\n",
       "      <th>2023</th>\n",
       "      <td>169500</td>\n",
       "    </tr>\n",
       "    <tr>\n",
       "      <th>2024</th>\n",
       "      <td>101500</td>\n",
       "    </tr>\n",
       "  </tbody>\n",
       "</table>\n",
       "</div>"
      ],
      "text/plain": [
       "      salary\n",
       "Year        \n",
       "2022  261800\n",
       "2023  169500\n",
       "2024  101500"
      ]
     },
     "execution_count": 92,
     "metadata": {},
     "output_type": "execute_result"
    }
   ],
   "source": [
    "salary_by_year.head()"
   ]
  },
  {
   "cell_type": "markdown",
   "id": "de970724",
   "metadata": {},
   "source": [
    "### Group salary by 'month'"
   ]
  },
  {
   "cell_type": "code",
   "execution_count": 94,
   "id": "e4ac5a57",
   "metadata": {},
   "outputs": [],
   "source": [
    "salary_by_month = df.groupby( [df['month_name']],as_index= False)[['salary']].sum()"
   ]
  },
  {
   "cell_type": "code",
   "execution_count": 95,
   "id": "4891a915",
   "metadata": {},
   "outputs": [
    {
     "data": {
      "text/html": [
       "<div>\n",
       "<style scoped>\n",
       "    .dataframe tbody tr th:only-of-type {\n",
       "        vertical-align: middle;\n",
       "    }\n",
       "\n",
       "    .dataframe tbody tr th {\n",
       "        vertical-align: top;\n",
       "    }\n",
       "\n",
       "    .dataframe thead th {\n",
       "        text-align: right;\n",
       "    }\n",
       "</style>\n",
       "<table border=\"1\" class=\"dataframe\">\n",
       "  <thead>\n",
       "    <tr style=\"text-align: right;\">\n",
       "      <th></th>\n",
       "      <th>month_name</th>\n",
       "      <th>salary</th>\n",
       "    </tr>\n",
       "  </thead>\n",
       "  <tbody>\n",
       "    <tr>\n",
       "      <th>0</th>\n",
       "      <td>April</td>\n",
       "      <td>56000</td>\n",
       "    </tr>\n",
       "    <tr>\n",
       "      <th>1</th>\n",
       "      <td>August</td>\n",
       "      <td>34500</td>\n",
       "    </tr>\n",
       "    <tr>\n",
       "      <th>2</th>\n",
       "      <td>February</td>\n",
       "      <td>112000</td>\n",
       "    </tr>\n",
       "    <tr>\n",
       "      <th>3</th>\n",
       "      <td>January</td>\n",
       "      <td>46000</td>\n",
       "    </tr>\n",
       "    <tr>\n",
       "      <th>4</th>\n",
       "      <td>July</td>\n",
       "      <td>56800</td>\n",
       "    </tr>\n",
       "  </tbody>\n",
       "</table>\n",
       "</div>"
      ],
      "text/plain": [
       "  month_name  salary\n",
       "0      April   56000\n",
       "1     August   34500\n",
       "2   February  112000\n",
       "3    January   46000\n",
       "4       July   56800"
      ]
     },
     "execution_count": 95,
     "metadata": {},
     "output_type": "execute_result"
    }
   ],
   "source": [
    "salary_by_month.head()"
   ]
  },
  {
   "cell_type": "code",
   "execution_count": 96,
   "id": "0b6a5516",
   "metadata": {},
   "outputs": [
    {
     "data": {
      "text/plain": [
       "Text(0.5, 1.0, 'Total salary by Month')"
      ]
     },
     "execution_count": 96,
     "metadata": {},
     "output_type": "execute_result"
    },
    {
     "data": {
      "image/png": "[encoded data removed]",
      "text/plain": [
       "<Figure size 1000x400 with 1 Axes>"
      ]
     },
     "metadata": {},
     "output_type": "display_data"
    }
   ],
   "source": [
    "plt.figure(figsize=(10,4))\n",
    "sns.barplot(data=salary_by_month, x='month_name', y='salary', palette='mako')\n",
    "plt.title('Total salary by Month')"
   ]
  },
  {
   "cell_type": "code",
   "execution_count": null,
   "id": "c7aa9b27",
   "metadata": {},
   "outputs": [],
   "source": []
  }
 ],
 "metadata": {
  "kernelspec": {
   "display_name": "Python 3 (ipykernel)",
   "language": "python",
   "name": "python3"
  },
  "language_info": {
   "codemirror_mode": {
    "name": "ipython",
    "version": 3
   },
   "file_extension": ".py",
   "mimetype": "text/x-python",
   "name": "python",
   "nbconvert_exporter": "python",
   "pygments_lexer": "ipython3",
   "version": "3.10.9"
  }
 },
 "nbformat": 4,
 "nbformat_minor": 5
}
